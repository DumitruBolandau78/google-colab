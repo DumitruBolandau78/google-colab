{
  "nbformat": 4,
  "nbformat_minor": 0,
  "metadata": {
    "colab": {
      "provenance": [],
      "authorship_tag": "ABX9TyPM1qBWBxHHgquu2ZGKhmQA",
      "include_colab_link": true
    },
    "kernelspec": {
      "name": "python3",
      "display_name": "Python 3"
    },
    "language_info": {
      "name": "python"
    }
  },
  "cells": [
    {
      "cell_type": "markdown",
      "metadata": {
        "id": "view-in-github",
        "colab_type": "text"
      },
      "source": [
        "<a href=\"https://colab.research.google.com/github/DumitruBolandau78/google-colab/blob/main/Untitled3.ipynb\" target=\"_parent\"><img src=\"https://colab.research.google.com/assets/colab-badge.svg\" alt=\"Open In Colab\"/></a>"
      ]
    },
    {
      "cell_type": "code",
      "execution_count": null,
      "metadata": {
        "id": "UC4jawFeUl2C"
      },
      "outputs": [],
      "source": [
        "import cv2\n",
        "import numpy as np\n",
        "from scipy import misc\n",
        "i = misc.ascent()\n",
        "\n",
        "import matplotlib.pyplot as plt\n",
        "plt.grid(False)\n",
        "plt.gray()\n",
        "plt.axis('off')\n",
        "plt.imshow(i)\n",
        "plt.show()\n",
        "\n",
        "i_transformed = np.copy(i)\n",
        "size_x = i_transformed.shape[0]\n",
        "size_y = i_transformed.shape[1]\n",
        "\n",
        "for x in range(1,size_x-1):\n",
        "  for y in range(1,size_y-1):\n",
        "      output_pixel = 0.0\n",
        "      output_pixel = output_pixel + (i[x - 1, y-1] * filter[0][0])\n",
        "      output_pixel = output_pixel + (i[x, y-1] * filter[0][1])\n",
        "      output_pixel = output_pixel + (i[x + 1, y-1] * filter[0][2])\n",
        "      output_pixel = output_pixel + (i[x-1, y] * filter[1][0])\n",
        "      output_pixel = output_pixel + (i[x, y] * filter[1][1])\n",
        "      output_pixel = output_pixel + (i[x+1, y] * filter[1][2])\n",
        "      output_pixel = output_pixel + (i[x-1, y+1] * filter[2][0])\n",
        "      output_pixel = output_pixel + (i[x, y+1] * filter[2][1])\n",
        "      output_pixel = output_pixel + (i[x+1, y+1] * filter[2][2])\n",
        "      output_pixel = output_pixel * weight\n",
        "      if(output_pixel<0):\n",
        "        output_pixel=0\n",
        "      if(output_pixel>255):\n",
        "        output_pixel=255\n",
        "      i_transformed[x, y] = output_pixel\n",
        "\n",
        "\n",
        "  # Plot the image. Note the size of the axes -- they are 512 by 512\n",
        "plt.gray()\n",
        "plt.grid(False)\n",
        "plt.imshow(i_transformed)\n",
        "#plt.axis('off')\n",
        "plt.show()\n",
        "\n",
        "\n",
        "new_x = int(size_x/2)\n",
        "new_y = int(size_y/2)\n",
        "newImage = np.zeros((new_x, new_y))\n",
        "for x in range(0, size_x, 2):\n",
        "  for y in range(0, size_y, 2):\n",
        "    pixels = []\n",
        "    pixels.append(i_transformed[x, y])\n",
        "    pixels.append(i_transformed[x+1, y])\n",
        "    pixels.append(i_transformed[x, y+1])\n",
        "    pixels.append(i_transformed[x+1, y+1])\n",
        "    pixels.sort(reverse=True)\n",
        "    newImage[int(x/2),int(y/2)] = pixels[0]\n",
        "\n",
        "# Plot the image. Note the size of the axes -- now 256 pixels instead of 512\n",
        "plt.gray()\n",
        "plt.grid(False)\n",
        "plt.imshow(newImage)\n",
        "#plt.axis('off')\n",
        "plt.show()"
      ]
    }
  ]
}